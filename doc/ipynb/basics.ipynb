{
 "cells": [
  {
   "cell_type": "code",
   "execution_count": 1,
   "metadata": {},
   "outputs": [],
   "source": [
    "import oommfpy as op\n",
    "import numpy as np\n",
    "import matplotlib.pyplot as plt"
   ]
  },
  {
   "cell_type": "markdown",
   "metadata": {},
   "source": [
    "## Basic functionality"
   ]
  },
  {
   "cell_type": "markdown",
   "metadata": {},
   "source": [
    "The most useful method in this library is the `OOMMFData` class, which can read a `omf` file in any format (binary, structured, etc.). From this class, the magnetisation and coordinates can be computed:"
   ]
  },
  {
   "cell_type": "code",
   "execution_count": 2,
   "metadata": {},
   "outputs": [],
   "source": [
    "data = op.MagnetisationData('../../test/omfs/isolated_sk_Cnv_n_060-Oxs_MinDriver-Magnetization-00-0000498.omf')\n",
    "data.generate_field()\n",
    "data.generate_coordinates()"
   ]
  },
  {
   "cell_type": "markdown",
   "metadata": {},
   "source": [
    "After reading the coordinates we have the `data.x`, `data.y` and `data.z` arrays with the coordinates. Unique values are stored in the `xs`, `ys` and `zs` arrays:"
   ]
  },
  {
   "cell_type": "code",
   "execution_count": 3,
   "metadata": {},
   "outputs": [
    {
     "data": {
      "text/plain": [
       "array([ 0.125,  0.375,  0.625,  0.875,  1.125,  1.375,  1.625,  1.875,\n",
       "        2.125,  2.375,  2.625,  2.875,  3.125,  3.375,  3.625,  3.875,\n",
       "        4.125,  4.375,  4.625,  4.875,  5.125,  5.375,  5.625,  5.875,\n",
       "        6.125,  6.375,  6.625,  6.875,  7.125,  7.375,  7.625,  7.875,\n",
       "        8.125,  8.375,  8.625,  8.875,  9.125,  9.375,  9.625,  9.875,\n",
       "       10.125, 10.375, 10.625, 10.875, 11.125, 11.375, 11.625, 11.875,\n",
       "       12.125, 12.375, 12.625, 12.875, 13.125, 13.375, 13.625, 13.875,\n",
       "       14.125, 14.375, 14.625, 14.875])"
      ]
     },
     "execution_count": 3,
     "metadata": {},
     "output_type": "execute_result"
    }
   ],
   "source": [
    "data.xs"
   ]
  },
  {
   "cell_type": "markdown",
   "metadata": {},
   "source": [
    "Similarly for the magnetisation, where the field (spin orientations) is stored in the `(n,3)`-array `data.m` and the magnetisation magnitude at every mesh site is stored in `data.Ms` (or `data.field_norm`):"
   ]
  },
  {
   "cell_type": "code",
   "execution_count": 4,
   "metadata": {},
   "outputs": [
    {
     "data": {
      "text/plain": [
       "array([-6.42060836e-06, -1.94469784e-05, -3.30261536e-05, ...,\n",
       "        3.30261536e-05,  1.94469784e-05,  6.42060836e-06])"
      ]
     },
     "execution_count": 4,
     "metadata": {},
     "output_type": "execute_result"
    }
   ],
   "source": [
    "data.mx"
   ]
  },
  {
   "cell_type": "markdown",
   "metadata": {},
   "source": [
    "We can compute the skyrmion number for a given plane and slice:"
   ]
  },
  {
   "cell_type": "code",
   "execution_count": 5,
   "metadata": {},
   "outputs": [
    {
     "data": {
      "text/plain": [
       "-0.9785538895386987"
      ]
     },
     "execution_count": 5,
     "metadata": {},
     "output_type": "execute_result"
    }
   ],
   "source": [
    "data.compute_sk_number(plane='xy', index=0)"
   ]
  },
  {
   "cell_type": "markdown",
   "metadata": {},
   "source": [
    "The index means computing the slice at `z=`:"
   ]
  },
  {
   "cell_type": "code",
   "execution_count": 6,
   "metadata": {},
   "outputs": [
    {
     "data": {
      "text/plain": [
       "1.0"
      ]
     },
     "execution_count": 6,
     "metadata": {},
     "output_type": "execute_result"
    }
   ],
   "source": [
    "data.zs[0]"
   ]
  },
  {
   "cell_type": "markdown",
   "metadata": {},
   "source": [
    "We can use this information to generate a plot:"
   ]
  },
  {
   "cell_type": "code",
   "execution_count": 7,
   "metadata": {},
   "outputs": [
    {
     "data": {
      "image/png": "[encoded data removed]",
      "text/plain": [
       "<Figure size 432x432 with 1 Axes>"
      ]
     },
     "metadata": {
      "needs_background": "light"
     },
     "output_type": "display_data"
    }
   ],
   "source": [
    "fltr = np.logical_and(data.z == data.zs[0],\n",
    "                      data.Ms > 1e-4)\n",
    "\n",
    "f = plt.figure(figsize=(6, 6))\n",
    "# More effective to use imshow to avoid scaling the\n",
    "# scattered data point size\n",
    "plt.scatter(data.x[fltr], data.y[fltr],\n",
    "            c=data.mz[fltr],\n",
    "            cmap='RdYlBu',\n",
    "            marker='s'\n",
    "            )\n",
    "plt.show()"
   ]
  },
  {
   "cell_type": "markdown",
   "metadata": {},
   "source": [
    "## Plot Functions"
   ]
  },
  {
   "cell_type": "markdown",
   "metadata": {},
   "source": [
    "The library also offers plot tools that can be used to quickly analyse a system:"
   ]
  },
  {
   "cell_type": "code",
   "execution_count": 8,
   "metadata": {},
   "outputs": [],
   "source": [
    "from oommfpy.tools import plot_omf\n",
    "from oommfpy.tools.plot_omf import plot_charge_density"
   ]
  },
  {
   "cell_type": "code",
   "execution_count": 9,
   "metadata": {},
   "outputs": [
    {
     "data": {
      "image/png": "[encoded data removed]",
      "text/plain": [
       "<Figure size 432x288 with 2 Axes>"
      ]
     },
     "metadata": {
      "needs_background": "light"
     },
     "output_type": "display_data"
    }
   ],
   "source": [
    "# We can also choose not to pass an axes object\n",
    "f, ax = plt.subplots()\n",
    "plot_omf('../../test/omfs/isolated_sk_Cnv_n_060-Oxs_MinDriver-Magnetization-00-0000498.omf',\n",
    "         # cbar=False,  # uncomment if colorbar is not required\n",
    "         ax=ax,  # comment if not passing an axes object\n",
    "         cbar_offsets=[-0.25, -0.2], cbar_size=0.2)"
   ]
  },
  {
   "cell_type": "markdown",
   "metadata": {},
   "source": [
    "And the charge density:"
   ]
  },
  {
   "cell_type": "code",
   "execution_count": 10,
   "metadata": {},
   "outputs": [
    {
     "data": {
      "image/png": "[encoded data removed]",
      "text/plain": [
       "<Figure size 432x288 with 2 Axes>"
      ]
     },
     "metadata": {
      "needs_background": "light"
     },
     "output_type": "display_data"
    }
   ],
   "source": [
    "plot_charge_density('../../test/omfs/isolated_sk_Cnv_n_060-Oxs_MinDriver-Magnetization-00-0000498.omf',\n",
    "                    plane='xy', index=0)"
   ]
  }
 ],
 "metadata": {
  "hide_input": false,
  "jupytext": {
   "formats": "ipynb,py:light"
  },
  "kernelspec": {
   "display_name": "Python 3",
   "language": "python",
   "name": "python3"
  },
  "language_info": {
   "codemirror_mode": {
    "name": "ipython",
    "version": 3
   },
   "file_extension": ".py",
   "mimetype": "text/x-python",
   "name": "python",
   "nbconvert_exporter": "python",
   "pygments_lexer": "ipython3",
   "version": "3.8.3"
  }
 },
 "nbformat": 4,
 "nbformat_minor": 2
}
